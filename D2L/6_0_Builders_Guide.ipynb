{
  "nbformat": 4,
  "nbformat_minor": 0,
  "metadata": {
    "colab": {
      "provenance": []
    },
    "kernelspec": {
      "name": "python3",
      "display_name": "Python 3"
    },
    "language_info": {
      "name": "python"
    }
  },
  "cells": [
    {
      "cell_type": "markdown",
      "source": [
        "**6.1 Layers and Modules**"
      ],
      "metadata": {
        "id": "fQrL1hK1TaoB"
      }
    },
    {
      "cell_type": "code",
      "execution_count": null,
      "metadata": {
        "id": "Yp0beJrXHCy6"
      },
      "outputs": [],
      "source": [
        "import torch\n",
        "from torch import nn\n",
        "from torch.nn import functional as F"
      ]
    },
    {
      "cell_type": "code",
      "source": [
        "#define a MLP model with 1) an init and 2) a forward function\n",
        "#architecture is input -> hidden with 256 neurons -> relu -> 10 output classifications\n",
        "class MLP(nn.Module):\n",
        "  def __init__(self):\n",
        "    super().__init__()\n",
        "    self.hidden = nn.LazyLinear(256)\n",
        "    self.output = nn.LazyLinear(10)\n",
        "\n",
        "  def forward(self, X):\n",
        "    return self.output(F.relu(self.hidden(X)))\n"
      ],
      "metadata": {
        "id": "buHhYlxOIhoJ"
      },
      "execution_count": null,
      "outputs": []
    },
    {
      "cell_type": "code",
      "source": [
        "net = nn.Sequential(nn.LazyLinear(256), nn.ReLU(), nn.LazyLinear(10))\n",
        "\n",
        "X = torch.rand(2, 20)\n",
        "net(X).shape"
      ],
      "metadata": {
        "colab": {
          "base_uri": "https://localhost:8080/"
        },
        "id": "M2UVSneyKBbL",
        "outputId": "c50c0544-2c1c-45f2-bdc9-a94843399488"
      },
      "execution_count": null,
      "outputs": [
        {
          "output_type": "execute_result",
          "data": {
            "text/plain": [
              "torch.Size([2, 10])"
            ]
          },
          "metadata": {},
          "execution_count": 10
        }
      ]
    },
    {
      "cell_type": "code",
      "source": [
        "mlp = MLP()\n",
        "mlp.forward(X).shape"
      ],
      "metadata": {
        "colab": {
          "base_uri": "https://localhost:8080/"
        },
        "id": "9yW2__dyKFEf",
        "outputId": "d0c12f59-edb3-49e5-9fca-3843b0a661bd"
      },
      "execution_count": null,
      "outputs": [
        {
          "output_type": "execute_result",
          "data": {
            "text/plain": [
              "torch.Size([2, 10])"
            ]
          },
          "metadata": {},
          "execution_count": 12
        }
      ]
    },
    {
      "cell_type": "code",
      "source": [
        "# nn.Module has the add_module(str(idx), module) function\n",
        "# for every arg pass in, add module\n",
        "# then apply each arg layer in the forward pass\n",
        "class MySequential(nn.Module):\n",
        "  def __init__(self, *args):\n",
        "    super().__init__()\n",
        "    for index, module in enumerate(args):\n",
        "      self.add_module(str(index), module)\n",
        "\n",
        "  def forward(self, X):\n",
        "    for module in self.children():\n",
        "      X = module(X)\n",
        "    return X"
      ],
      "metadata": {
        "id": "kD2AR2XFKp7Q"
      },
      "execution_count": null,
      "outputs": []
    },
    {
      "cell_type": "code",
      "source": [
        "net = MySequential(nn.LazyLinear(256), nn.ReLU(), nn.LazyLinear(10))\n",
        "net(X).shape"
      ],
      "metadata": {
        "colab": {
          "base_uri": "https://localhost:8080/"
        },
        "id": "IKeAx1bvLkKT",
        "outputId": "19e8ac4c-1b24-4ca6-9502-b76970d97097"
      },
      "execution_count": null,
      "outputs": [
        {
          "output_type": "execute_result",
          "data": {
            "text/plain": [
              "torch.Size([2, 10])"
            ]
          },
          "metadata": {},
          "execution_count": 19
        }
      ]
    },
    {
      "cell_type": "code",
      "source": [
        "net = MySequential(nn.LazyLinear(256), nn.ReLU(), nn.LazyLinear(10))\n",
        "net(X).shape"
      ],
      "metadata": {
        "colab": {
          "base_uri": "https://localhost:8080/"
        },
        "id": "56UUFDl0Lodv",
        "outputId": "1fc5bf41-675a-4db0-fcd2-c6fcdc4cb000"
      },
      "execution_count": null,
      "outputs": [
        {
          "output_type": "execute_result",
          "data": {
            "text/plain": [
              "torch.Size([2, 10])"
            ]
          },
          "metadata": {},
          "execution_count": 20
        }
      ]
    },
    {
      "cell_type": "markdown",
      "source": [
        "1) Implement a module that takes two modules as an argument, say net1 and net2 and returns the concatenated output of both networks in the forward propagation. This is also called a parallel module.\n",
        "2) Assume that you want to concatenate multiple instances of the same network. Implement a factory function that generates multiple instances of the same module and build a larger network from it."
      ],
      "metadata": {
        "id": "VTdHapV0NAIe"
      }
    },
    {
      "cell_type": "code",
      "source": [
        "class ParallelModule(nn.Module):\n",
        "  def __init__(self, module1, module2):\n",
        "    super().__init__()\n",
        "    self.m1 = module1\n",
        "    self.m2 = module2\n",
        "\n",
        "  def forward(self, X):\n",
        "    return torch.concat((self.m1(X), self.m2(X)), dim =1)"
      ],
      "metadata": {
        "id": "HZ_Q_49TM_Ii"
      },
      "execution_count": null,
      "outputs": []
    },
    {
      "cell_type": "code",
      "source": [
        "class Factory(nn.Module):\n",
        "  def __init__(self, module, instance_number, *args):\n",
        "    super().__init__()\n",
        "    self.module_list = nn.Module_List([module(*args) for _ in range(instance_number)])\n",
        "\n",
        "  def forward(self, X):\n",
        "    outs = [module(X) for module in self.module_list]\n",
        "    return torch.concat(outs, dim = 0)"
      ],
      "metadata": {
        "id": "jr5CHQsCOPyX"
      },
      "execution_count": null,
      "outputs": []
    },
    {
      "cell_type": "markdown",
      "source": [
        "**6.2 Parameter Management**"
      ],
      "metadata": {
        "id": "vZJJ7GdJTdVB"
      }
    },
    {
      "cell_type": "code",
      "source": [
        "import torch\n",
        "from torch import nn"
      ],
      "metadata": {
        "id": "xWxv03mXTgFs"
      },
      "execution_count": null,
      "outputs": []
    },
    {
      "cell_type": "code",
      "source": [
        "net = nn.Sequential(\n",
        "    nn.LazyLinear(8),\n",
        "    nn.ReLU(),\n",
        "    nn.LazyLinear(1)\n",
        ")\n",
        "\n",
        "X = torch.rand((2,4))\n",
        "net(X).shape"
      ],
      "metadata": {
        "colab": {
          "base_uri": "https://localhost:8080/"
        },
        "id": "J1zpHjtUTkDU",
        "outputId": "1ff5e15d-8ed2-4ee5-b0eb-aaf4c4c64cbe"
      },
      "execution_count": null,
      "outputs": [
        {
          "output_type": "execute_result",
          "data": {
            "text/plain": [
              "torch.Size([2, 1])"
            ]
          },
          "metadata": {},
          "execution_count": 25
        }
      ]
    },
    {
      "cell_type": "code",
      "source": [
        "net[0].state_dict()"
      ],
      "metadata": {
        "colab": {
          "base_uri": "https://localhost:8080/"
        },
        "id": "q1I6mw5gUFLJ",
        "outputId": "d501af65-71b0-494c-af63-459390384e37"
      },
      "execution_count": null,
      "outputs": [
        {
          "output_type": "execute_result",
          "data": {
            "text/plain": [
              "OrderedDict([('weight',\n",
              "              tensor([[-0.1861, -0.0162, -0.2997,  0.2197],\n",
              "                      [ 0.3840, -0.2031, -0.4833, -0.4304],\n",
              "                      [-0.3437,  0.2530, -0.4603, -0.2165],\n",
              "                      [-0.2484,  0.4672, -0.1788, -0.4103],\n",
              "                      [-0.3861,  0.1321,  0.4490,  0.1312],\n",
              "                      [ 0.3881, -0.3586, -0.1096,  0.3437],\n",
              "                      [ 0.1393, -0.4766, -0.2616,  0.1280],\n",
              "                      [ 0.2667, -0.2040, -0.4299, -0.2025]])),\n",
              "             ('bias',\n",
              "              tensor([ 0.3671,  0.1426, -0.0596,  0.2485, -0.0377, -0.0431, -0.3125, -0.2779]))])"
            ]
          },
          "metadata": {},
          "execution_count": 32
        }
      ]
    },
    {
      "cell_type": "code",
      "source": [
        "type(net[2].bias), net[2].bias.data, net[2].weight.data"
      ],
      "metadata": {
        "colab": {
          "base_uri": "https://localhost:8080/"
        },
        "id": "G6UoveBPUhH0",
        "outputId": "ebab1535-b530-4477-e45c-0fb8ccbe839d"
      },
      "execution_count": null,
      "outputs": [
        {
          "output_type": "execute_result",
          "data": {
            "text/plain": [
              "(torch.nn.parameter.Parameter,\n",
              " tensor([0.2256]),\n",
              " tensor([[ 0.3089,  0.0087,  0.3364, -0.1094,  0.2066,  0.0778,  0.0350, -0.2416]]))"
            ]
          },
          "metadata": {},
          "execution_count": 36
        }
      ]
    },
    {
      "cell_type": "code",
      "source": [
        "[(name, param.shape) for name, param in net.named_parameters()]"
      ],
      "metadata": {
        "colab": {
          "base_uri": "https://localhost:8080/"
        },
        "id": "uT0of2WEUwtQ",
        "outputId": "aece660a-0171-4b2e-8543-fd069a7b1a48"
      },
      "execution_count": null,
      "outputs": [
        {
          "output_type": "execute_result",
          "data": {
            "text/plain": [
              "[('0.weight', torch.Size([8, 4])),\n",
              " ('0.bias', torch.Size([8])),\n",
              " ('2.weight', torch.Size([1, 8])),\n",
              " ('2.bias', torch.Size([1]))]"
            ]
          },
          "metadata": {},
          "execution_count": 40
        }
      ]
    },
    {
      "cell_type": "code",
      "source": [
        "# We need to give the shared layer a name so that we can refer to its\n",
        "# parameters\n",
        "shared = nn.LazyLinear(8)\n",
        "net = nn.Sequential(nn.LazyLinear(8), nn.ReLU(),\n",
        "                    shared, nn.ReLU(),\n",
        "                    shared, nn.ReLU(),\n",
        "                    nn.LazyLinear(1))\n",
        "\n",
        "net(X)\n",
        "# Check whether the parameters are the same\n",
        "print(net[2].weight.data[0] == net[4].weight.data[0])\n",
        "net[2].weight.data[0, 0] = 100\n",
        "# Make sure that they are actually the same object rather than just having the\n",
        "# same value\n",
        "print(net[2].weight.data[0] == net[4].weight.data[0])"
      ],
      "metadata": {
        "colab": {
          "base_uri": "https://localhost:8080/"
        },
        "id": "y_9qxNs_VWa5",
        "outputId": "856e16aa-2a9f-4004-c8eb-e0856254a12a"
      },
      "execution_count": null,
      "outputs": [
        {
          "output_type": "stream",
          "name": "stdout",
          "text": [
            "tensor([True, True, True, True, True, True, True, True])\n",
            "tensor([True, True, True, True, True, True, True, True])\n"
          ]
        }
      ]
    },
    {
      "cell_type": "markdown",
      "source": [
        "Use the NestMLP model defined in Section 6.1 and access the parameters of the various layers.\n",
        "Construct an MLP containing a shared parameter layer and train it. During the training process, observe the model parameters and gradients of each layer.\n",
        "Why is sharing parameters a good idea?"
      ],
      "metadata": {
        "id": "F65MxebXV2eG"
      }
    },
    {
      "cell_type": "code",
      "source": [],
      "metadata": {
        "colab": {
          "base_uri": "https://localhost:8080/",
          "height": 105
        },
        "id": "V9-dtRo2Vuvm",
        "outputId": "7001b1a1-aabc-49e5-ae3d-6c18eb4650a6"
      },
      "execution_count": null,
      "outputs": [
        {
          "output_type": "error",
          "ename": "SyntaxError",
          "evalue": "invalid syntax (ipython-input-363198985.py, line 1)",
          "traceback": [
            "\u001b[0;36m  File \u001b[0;32m\"/tmp/ipython-input-363198985.py\"\u001b[0;36m, line \u001b[0;32m1\u001b[0m\n\u001b[0;31m    Use the NestMLP model defined in Section 6.1 and access the parameters of the various layers.\u001b[0m\n\u001b[0m        ^\u001b[0m\n\u001b[0;31mSyntaxError\u001b[0m\u001b[0;31m:\u001b[0m invalid syntax\n"
          ]
        }
      ]
    },
    {
      "cell_type": "code",
      "source": [],
      "metadata": {
        "id": "H03y2IMTV1-b"
      },
      "execution_count": null,
      "outputs": []
    }
  ]
}
